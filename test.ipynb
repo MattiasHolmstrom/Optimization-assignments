{
 "cells": [
  {
   "cell_type": "code",
   "execution_count": 158,
   "metadata": {},
   "outputs": [],
   "source": [
    "import numpy as np\n",
    "import matplotlib.pyplot as plt\n",
    "\n",
    "\n",
    "class LevenbergMarquardt:\n",
    "\n",
    "    \"\"\"\n",
    "    Finds the least-squares solution for a nonlinear function using the\n",
    "    Levenberg-Marquart (LM) algorithm.\n",
    "    \"\"\"\n",
    "\n",
    "    def __init__(\n",
    "            self,\n",
    "            func=None,\n",
    "            grad=None,\n",
    "            tol=1e-3,\n",
    "            lambda_=1,\n",
    "            alpha=1,\n",
    "            max_iter=1000,\n",
    "            plot_conv=False,\n",
    "    ):\n",
    "        \"\"\"\n",
    "        Initializes the LevenbergMarquardt optimization class object.\n",
    "\n",
    "        Args:\n",
    "            func: the function to which we are fitting the least squares solution\n",
    "            grad: gradient of the function, if provided by the user\n",
    "            tol: how close to zero that the gradient vector has to be for convergence\n",
    "            lambda_: dampening factor used in the LM to replace the omitted term in the\n",
    "                Gauss-Newton formula\n",
    "            alpha: step size when updating x_k to x_k + 1\n",
    "            max_iter: max number of iterations allowed before the algorithm terminates\n",
    "            plot_sol:\n",
    "            plot_conv: set to True if MSE and parameter values per iteration should\n",
    "                be plotted\n",
    "        \"\"\"\n",
    "\n",
    "        # Store input parameters as class attributes\n",
    "        self.func = func\n",
    "        self.gradient = grad\n",
    "        self.tol = tol\n",
    "        self.lambda_ = lambda_\n",
    "        self.alpha = alpha\n",
    "        self.max_iter = max_iter\n",
    "        self.plot_conv = plot_conv\n",
    "\n",
    "        # Variables for storing results in optimization\n",
    "        self.function_values = []\n",
    "        self.param_values = []\n",
    "        self.final_gradient = None\n",
    "        self.final_diff = None\n",
    "        self.final_fx = None\n",
    "        self.final_x_k = None\n",
    "\n",
    "        # Attribute for tracking succesful convergence\n",
    "        self.success = False\n",
    "        self.n_iterations = 0\n",
    "\n",
    "    def calculate_function(self, x_k):\n",
    "        \"\"\"\n",
    "        Calculate the mean squared error (MSE) for the y values of the given data\n",
    "        points and the function value for the current parameter values.\n",
    "        \"\"\"\n",
    "\n",
    "        # Call supplied function to calculate f(x) for each data point\n",
    "        fx = self.func(x_k)\n",
    "\n",
    "        # Calculate MSE: (1 / n) * (y - y_hat)^2\n",
    "        mse = (fx @ fx.T) / len(fx)\n",
    "\n",
    "        return fx, mse\n",
    "\n",
    "    def calculate_gradient(self, fx, x_k):\n",
    "        \"\"\"\n",
    "        Calculates the gradient numerically given a numpy array of function values.\n",
    "        \"\"\"\n",
    "\n",
    "        if self.gradient:  # Call function supplied by user if it exists\n",
    "            grad_fx = self.gradient(x_k)\n",
    "        else:  # Otherwise, use numerical gradient approximation\n",
    "            grad = np.gradient(fx)\n",
    "            grad_fx = np.stack((grad, grad))\n",
    "\n",
    "        return grad_fx\n",
    "\n",
    "    def run_lm_algorithm(self, x0):\n",
    "        \"\"\"\n",
    "        Finds the least-squares solution for a nonlinear function using the\n",
    "        Levenberg-Marquart (LM) algorithm.\n",
    "\n",
    "        Args:\n",
    "            x0: starting guess for parameter values\n",
    "\n",
    "        Returns:\n",
    "            x_k: optimal parameter values\n",
    "            function_values: value of the function for each iteration\n",
    "            parameter_values value of parameters for each iteration\n",
    "        \"\"\"\n",
    "\n",
    "        # Initial values for parameters\n",
    "        x_k = np.array(x0)\n",
    "\n",
    "        # Dampening factor\n",
    "        damp = self.lambda_ * np.eye(len(x_k))\n",
    "\n",
    "        # Initialize flag and count variables\n",
    "        self.n_iterations = 0\n",
    "\n",
    "        # Loop until optimum or other stopping criteria reached\n",
    "        while self.n_iterations < self.max_iter:\n",
    "            self.n_iterations += 1\n",
    "\n",
    "            # Save parameter values for this iteration\n",
    "            self.param_values.append(x_k)\n",
    "\n",
    "            # Compute F(x) vectors and gradient matrix of F(x)\n",
    "            fx, mse = self.calculate_function(x_k)\n",
    "            self.function_values.append(mse)\n",
    "            grad_fx = self.calculate_gradient(fx, x_k)\n",
    "            fx = fx.reshape(-1, 1)\n",
    "\n",
    "            # Compute next point x_k+1\n",
    "            x_k = x_k - self.alpha * (np.linalg.inv(grad_fx @ grad_fx.T + damp)) @ \\\n",
    "                  (grad_fx @ fx)\n",
    "\n",
    "            if np.sum(np.abs(grad_fx @ fx)) <= self.tol:\n",
    "                self.success = True\n",
    "                break\n",
    "\n",
    "        # Calculate final vectors and values at termination, for output\n",
    "        self.final_gradient = grad_fx @ fx\n",
    "        self.final_x_k = x_k\n",
    "        self.final_fx = fx\n",
    "        \n",
    "    def minimize(self, x_k):\n",
    "        self.run_lm_algorithm(x_k)\n",
    "        self.print_output_report()\n",
    "        \n",
    "        if self.plot_conv:\n",
    "            self.plot_convergence()\n",
    "            \n",
    "        return self.final_x_k, self.function_values[-1], self.final_fx\n",
    "    \n",
    "    def print_output_report(self):\n",
    "        \"\"\"Prints results of the optimization in digestable format\"\"\"\n",
    "\n",
    "        # Print results\n",
    "        print(\"------ Output report ------\\n\")\n",
    "        print(f\"Successful convergence: {self.success}\")\n",
    "        print(f\"Parameter values: {self.final_x_k}\")\n",
    "        print(f\"Function value: {self.function_values[-1]}\")\n",
    "        print(f\"Number of iterations: {self.n_iterations}\")\n",
    "        print(f\"Final gradient vector: {self.final_gradient}\")\n",
    "        \n",
    "    def plot_convergence(self):\n",
    "        \"\"\"\n",
    "        Plot function value and parameter values for each iteration, to analyze\n",
    "        convergence behavior of the algorithm.\n",
    "        \"\"\"\n",
    "        # TODO: Add plot for x_k\n",
    "\n",
    "        # Create plot\n",
    "        fig, axes = plt.subplots(1, 2, figsize=(10, 4))\n",
    "        plt.suptitle(\"Convergence behavior\", fontsize=14)\n",
    "\n",
    "        # Plot MSE \n",
    "        axes[0].plot(range(len(self.function_values)), self.function_values, color=\"blue\")\n",
    "        axes[0].set_title(\"Mean squared error (function value)\", fontsize=12)\n",
    "        axes[0].set_xlabel(\"iteration\", fontsize=12)\n",
    "        axes[0].set_ylabel(\"Mean squared error (MSE)\", fontsize=12)\n",
    "\n",
    "        # Plot parameter values\n",
    "        \n",
    "        if len(self.param_values[0]) > 1:\n",
    "            x_1 = [x_k[0] for x_k in self.param_values]\n",
    "            x_2 = [x_k[1] for x_k in self.param_values]\n",
    "            axes[1].scatter(x_1, x_2)\n",
    "            axes[1].set_xlabel(\"x_1\", fontsize=12)\n",
    "            axes[1].set_ylabel(\"x_2\", fontsize=12)\n",
    "        else:\n",
    "            x_1 = [x_k for x_k in self.param_values]\n",
    "            axes[1].scatter(x_1)\n",
    "            axes[1].set_xlabel(\"x_1\", fontsize=12)\n",
    "            axes[1].set_ylabel(\"\", fontsize=12)\n",
    "        \n",
    "        axes[1].set_title(\"Parameter values (max two shown)\", fontsize=12)\n",
    "        \n",
    "        plt.show()\n",
    "\n",
    "    def plot_solution(self, x_values, y_values):\n",
    "        \"\"\"\n",
    "        Plot the solution given by the optimized parameters and the original\n",
    "        datapoints.\n",
    "        \"\"\"\n",
    "\n",
    "        # Create plot\n",
    "        plt.figure(figsize=(6, 4))\n",
    "        plt.title(\"Least squares solution\", fontsize=14, pad=16)\n",
    "        plt.xlabel(\"x\", fontsize=12)\n",
    "        plt.ylabel(\"f(x)\", fontsize=12)\n",
    "\n",
    "        # Calculate least squares solution (line)\n",
    "        line_range = np.arange(min(x_values), max(x_values) + 0.1, 0.1)\n",
    "        line_values = [self.final_x_k[0] * np.exp(self.final_x_k[1] * line_range[i]) for i in range(len(line_range))]\n",
    "\n",
    "        # Plot solution and original datapoints\n",
    "        plt.scatter(x_values, y_values, color=\"red\")\n",
    "        plt.plot(line_range, line_values, color=\"blue\")\n",
    "        plt.show()\n"
   ]
  },
  {
   "cell_type": "code",
   "execution_count": 142,
   "metadata": {},
   "outputs": [],
   "source": [
    "def main_1():\n",
    "\n",
    "    # TEST CASE 1 (given in the assignment)\n",
    "\n",
    "    print(\"Running Test case 1 (given in assignment)\\n\")\n",
    "    print(\"Function is: y(t) = x_1 * e^(x_2 * t)\\n\")\n",
    "\n",
    "    # Define values of t, y_t and x0\n",
    "    t = np.arange(0.5, 4.5, 0.5)\n",
    "    y_t = np.array([7.2, 3.0, 1.5, 0.85, 0.48, 0.25, 0.20, 0.15])\n",
    "    x0 = [1, 1]\n",
    "\n",
    "    # Define test function\n",
    "    def test_function_1(x_k):\n",
    "        \n",
    "        y = y_t\n",
    "        x = t\n",
    "        fx = y - (x_k[0] * np.exp(x_k[1] * x))\n",
    "        \n",
    "        return fx\n",
    "\n",
    "    # Define gradient function\n",
    "    def test_gradient_1(x_k):\n",
    "        \n",
    "        x = t\n",
    "        grad_fx = np.array([-np.exp(x_k[1] * x), -x * x_k[0] * np.exp(x_k[1] * x)])\n",
    "        \n",
    "        return grad_fx\n",
    "\n",
    "    # Initialize optimizer WITH gradient argument\n",
    "    optimizer_1 = LevenbergMarquardt(\n",
    "        func=test_function_1,\n",
    "        grad=test_gradient_1,\n",
    "        tol=1e-3,\n",
    "        lambda_=1,\n",
    "        alpha=1,\n",
    "        max_iter=1000,\n",
    "        plot_conv=True,\n",
    "    )\n",
    "\n",
    "    # Run optimizer\n",
    "    optimizer_1.minimize(x0)\n",
    "    optimizer_1.plot_solution(t, y_t)\n",
    "    \n",
    "    # Initialize optimizer WITHOUT gradient argument\n",
    "    #optimizer_2 = LevenbergMarquardt(\n",
    "        #func=test_function_1,\n",
    "        #tol=1e-3,\n",
    "        #lambda_=1,\n",
    "        #alpha=1,\n",
    "        #max_iter=1000,\n",
    "        #plot_conv=True,\n",
    "    #)\n",
    "\n",
    "    # Run optimizer\n",
    "    #optimizer_2.minimize(x0)\n",
    "    #optimizer_2.plot_solution(t, y_t)"
   ]
  },
  {
   "cell_type": "code",
   "execution_count": 143,
   "metadata": {},
   "outputs": [
    {
     "name": "stdout",
     "output_type": "stream",
     "text": [
      "Running Test case 1 (given in assignment)\n",
      "\n",
      "Function is: y(t) = x_1 * e^(x_2 * t)\n",
      "\n",
      "------ Output report ------\n",
      "\n",
      "Successful convergence: True\n",
      "Parameter values: [15.61545656 -1.57109094]\n",
      "Function value: 0.021621240306341584\n",
      "Number of iterations: 135\n",
      "Final gradient vector: [-0.00087709  0.00011445]\n"
     ]
    },
    {
     "data": {
      "image/png": "[encoded data removed]",
      "text/plain": [
       "<Figure size 1000x400 with 2 Axes>"
      ]
     },
     "metadata": {},
     "output_type": "display_data"
    },
    {
     "data": {
      "image/png": "[encoded data removed]",
      "text/plain": [
       "<Figure size 600x400 with 1 Axes>"
      ]
     },
     "metadata": {},
     "output_type": "display_data"
    }
   ],
   "source": [
    "main_1()"
   ]
  },
  {
   "cell_type": "code",
   "execution_count": 176,
   "metadata": {},
   "outputs": [],
   "source": [
    "def main_2():\n",
    "\n",
    "    # TEST CASE 1 (given in the assignment)\n",
    "\n",
    "    print(\"Running Test case 2\\n\")\n",
    "    print(\"Function is: f(t) = x_1*t + x_2*t^2 - x_3*t^3\\n\")\n",
    "\n",
    "    # Define values of t, y_t and x0\n",
    "    x_true = [1, 1.5, -2]\n",
    "    y_calc = lambda t: x_true[0] * t + np.power(x_true[1] * t, 2) - np.power(x_true[2] * t, 3)   \n",
    "    t = np.arange(0, 10, 1)\n",
    "    y_t = np.array([y_calc(t_val) for t_val in t]) + np.random.normal(loc=0, scale=1, size=(1, len(t)))\n",
    "    x0 = [1, 1, 1]\n",
    "\n",
    "    # Define test function\n",
    "    def test_function_2(x_k):\n",
    "        \n",
    "        y = y_t\n",
    "        x = t\n",
    "        fx = y - ((x_k[0] * t) + (np.power(x_k[1] * t, 2)) - (np.power(x_k[2] * t, 3)))\n",
    "        \n",
    "        return fx\n",
    "\n",
    "    # Define gradient function\n",
    "    def test_gradient_2(x_k):\n",
    "        \n",
    "        x = t\n",
    "        grad_fx = np.array([-x, -2 * t, 3 * t])\n",
    "        \n",
    "        return grad_fx\n",
    "\n",
    "    # Initialize optimizer WITH gradient argument\n",
    "    optimizer_2 = LevenbergMarquardt(\n",
    "        func=test_function_2,\n",
    "        grad=test_gradient_2,\n",
    "        tol=1e-3,\n",
    "        lambda_=1,\n",
    "        alpha=1,\n",
    "        max_iter=1000,\n",
    "        plot_conv=True,\n",
    "    )\n",
    "\n",
    "    # Run optimizer\n",
    "    optimizer_2.minimize(x0)\n",
    "    optimizer_2.plot_solution(t, y_t)"
   ]
  },
  {
   "cell_type": "code",
   "execution_count": 177,
   "metadata": {},
   "outputs": [
    {
     "name": "stdout",
     "output_type": "stream",
     "text": [
      "Running Test case 2\n",
      "\n",
      "Function is: f(t) = x_1*t + x_2*t^2 - x_3*t^3\n",
      "\n"
     ]
    },
    {
     "ename": "ValueError",
     "evalue": "operands could not be broadcast together with shapes (3,) (10,) ",
     "output_type": "error",
     "traceback": [
      "\u001b[1;31m---------------------------------------------------------------------------\u001b[0m",
      "\u001b[1;31mValueError\u001b[0m                                Traceback (most recent call last)",
      "Cell \u001b[1;32mIn [177], line 1\u001b[0m\n\u001b[1;32m----> 1\u001b[0m \u001b[43mmain_2\u001b[49m\u001b[43m(\u001b[49m\u001b[43m)\u001b[49m\n",
      "Cell \u001b[1;32mIn [176], line 44\u001b[0m, in \u001b[0;36mmain_2\u001b[1;34m()\u001b[0m\n\u001b[0;32m     33\u001b[0m optimizer_2 \u001b[38;5;241m=\u001b[39m LevenbergMarquardt(\n\u001b[0;32m     34\u001b[0m     func\u001b[38;5;241m=\u001b[39mtest_function_2,\n\u001b[0;32m     35\u001b[0m     grad\u001b[38;5;241m=\u001b[39mtest_gradient_2,\n\u001b[1;32m   (...)\u001b[0m\n\u001b[0;32m     40\u001b[0m     plot_conv\u001b[38;5;241m=\u001b[39m\u001b[38;5;28;01mTrue\u001b[39;00m,\n\u001b[0;32m     41\u001b[0m )\n\u001b[0;32m     43\u001b[0m \u001b[38;5;66;03m# Run optimizer\u001b[39;00m\n\u001b[1;32m---> 44\u001b[0m \u001b[43moptimizer_2\u001b[49m\u001b[38;5;241;43m.\u001b[39;49m\u001b[43mminimize\u001b[49m\u001b[43m(\u001b[49m\u001b[43mx0\u001b[49m\u001b[43m)\u001b[49m\n\u001b[0;32m     45\u001b[0m optimizer_2\u001b[38;5;241m.\u001b[39mplot_solution(t, y_t)\n",
      "Cell \u001b[1;32mIn [158], line 136\u001b[0m, in \u001b[0;36mLevenbergMarquardt.minimize\u001b[1;34m(self, x_k)\u001b[0m\n\u001b[0;32m    135\u001b[0m \u001b[38;5;28;01mdef\u001b[39;00m \u001b[38;5;21mminimize\u001b[39m(\u001b[38;5;28mself\u001b[39m, x_k):\n\u001b[1;32m--> 136\u001b[0m     \u001b[38;5;28;43mself\u001b[39;49m\u001b[38;5;241;43m.\u001b[39;49m\u001b[43mrun_lm_algorithm\u001b[49m\u001b[43m(\u001b[49m\u001b[43mx_k\u001b[49m\u001b[43m)\u001b[49m\n\u001b[0;32m    137\u001b[0m     \u001b[38;5;28mself\u001b[39m\u001b[38;5;241m.\u001b[39mprint_output_report()\n\u001b[0;32m    139\u001b[0m     \u001b[38;5;28;01mif\u001b[39;00m \u001b[38;5;28mself\u001b[39m\u001b[38;5;241m.\u001b[39mplot_conv:\n",
      "Cell \u001b[1;32mIn [158], line 117\u001b[0m, in \u001b[0;36mLevenbergMarquardt.run_lm_algorithm\u001b[1;34m(self, x0)\u001b[0m\n\u001b[0;32m    114\u001b[0m \u001b[38;5;28mself\u001b[39m\u001b[38;5;241m.\u001b[39mparam_values\u001b[38;5;241m.\u001b[39mappend(x_k)\n\u001b[0;32m    116\u001b[0m \u001b[38;5;66;03m# Compute F(x) vectors and gradient matrix of F(x)\u001b[39;00m\n\u001b[1;32m--> 117\u001b[0m fx, mse \u001b[38;5;241m=\u001b[39m \u001b[38;5;28;43mself\u001b[39;49m\u001b[38;5;241;43m.\u001b[39;49m\u001b[43mcalculate_function\u001b[49m\u001b[43m(\u001b[49m\u001b[43mx_k\u001b[49m\u001b[43m)\u001b[49m\n\u001b[0;32m    118\u001b[0m \u001b[38;5;28mself\u001b[39m\u001b[38;5;241m.\u001b[39mfunction_values\u001b[38;5;241m.\u001b[39mappend(mse)\n\u001b[0;32m    119\u001b[0m grad_fx \u001b[38;5;241m=\u001b[39m \u001b[38;5;28mself\u001b[39m\u001b[38;5;241m.\u001b[39mcalculate_gradient(fx, x_k)\n",
      "Cell \u001b[1;32mIn [158], line 66\u001b[0m, in \u001b[0;36mLevenbergMarquardt.calculate_function\u001b[1;34m(self, x_k)\u001b[0m\n\u001b[0;32m     60\u001b[0m \u001b[38;5;124;03m\"\"\"\u001b[39;00m\n\u001b[0;32m     61\u001b[0m \u001b[38;5;124;03mCalculate the mean squared error (MSE) for the y values of the given data\u001b[39;00m\n\u001b[0;32m     62\u001b[0m \u001b[38;5;124;03mpoints and the function value for the current parameter values.\u001b[39;00m\n\u001b[0;32m     63\u001b[0m \u001b[38;5;124;03m\"\"\"\u001b[39;00m\n\u001b[0;32m     65\u001b[0m \u001b[38;5;66;03m# Call supplied function to calculate f(x) for each data point\u001b[39;00m\n\u001b[1;32m---> 66\u001b[0m fx \u001b[38;5;241m=\u001b[39m \u001b[38;5;28;43mself\u001b[39;49m\u001b[38;5;241;43m.\u001b[39;49m\u001b[43mfunc\u001b[49m\u001b[43m(\u001b[49m\u001b[43mx_k\u001b[49m\u001b[43m)\u001b[49m\n\u001b[0;32m     68\u001b[0m \u001b[38;5;66;03m# Calculate MSE: (1 / n) * (y - y_hat)^2\u001b[39;00m\n\u001b[0;32m     69\u001b[0m mse \u001b[38;5;241m=\u001b[39m (fx \u001b[38;5;241m@\u001b[39m fx\u001b[38;5;241m.\u001b[39mT) \u001b[38;5;241m/\u001b[39m \u001b[38;5;28mlen\u001b[39m(fx)\n",
      "Cell \u001b[1;32mIn [176], line 20\u001b[0m, in \u001b[0;36mmain_2.<locals>.test_function_2\u001b[1;34m(x_k)\u001b[0m\n\u001b[0;32m     18\u001b[0m y \u001b[38;5;241m=\u001b[39m y_t\n\u001b[0;32m     19\u001b[0m x \u001b[38;5;241m=\u001b[39m t\n\u001b[1;32m---> 20\u001b[0m fx \u001b[38;5;241m=\u001b[39m y \u001b[38;5;241m-\u001b[39m ((\u001b[43mx_k\u001b[49m\u001b[43m[\u001b[49m\u001b[38;5;241;43m0\u001b[39;49m\u001b[43m]\u001b[49m\u001b[43m \u001b[49m\u001b[38;5;241;43m*\u001b[39;49m\u001b[43m \u001b[49m\u001b[43mt\u001b[49m) \u001b[38;5;241m+\u001b[39m (np\u001b[38;5;241m.\u001b[39mpower(x_k[\u001b[38;5;241m1\u001b[39m] \u001b[38;5;241m*\u001b[39m t, \u001b[38;5;241m2\u001b[39m)) \u001b[38;5;241m-\u001b[39m (np\u001b[38;5;241m.\u001b[39mpower(x_k[\u001b[38;5;241m2\u001b[39m] \u001b[38;5;241m*\u001b[39m t, \u001b[38;5;241m3\u001b[39m)))\n\u001b[0;32m     22\u001b[0m \u001b[38;5;28;01mreturn\u001b[39;00m fx\n",
      "\u001b[1;31mValueError\u001b[0m: operands could not be broadcast together with shapes (3,) (10,) "
     ]
    }
   ],
   "source": [
    "main_2()"
   ]
  },
  {
   "cell_type": "code",
   "execution_count": 147,
   "metadata": {},
   "outputs": [],
   "source": [
    "x_true = [1, 1.5, -2]\n",
    "y_calc = lambda t: (x_true[0] * t) + (x_true[1] * t ** 2) - (x_true[2] * t ** 3)   \n",
    "t = np.arange(0, 10, 1)\n",
    "y_t = np.array([y_calc(t_val) for t_val in t]) + np.random.normal(loc=0, scale=1, size=(1, len(t)))\n",
    "x0 = [1, 1, 1]\n",
    "\n",
    "def test_function_2(x_k):\n",
    "        \n",
    "    y = y_t\n",
    "    x = t\n",
    "    fx = y - (x_k[0] * t + x_k[1] * t^2 - x_k[2] * t^3)  \n",
    "        \n",
    "    return fx.reshape(-1, 1)"
   ]
  },
  {
   "cell_type": "code",
   "execution_count": 156,
   "metadata": {},
   "outputs": [],
   "source": [
    "# Define gradient function\n",
    "def test_gradient_2(x_k):\n",
    "        \n",
    "    x = t\n",
    "    grad_fx = np.array([-x, -2 * t, 3 * t])\n",
    "        \n",
    "    return grad_fx"
   ]
  },
  {
   "cell_type": "code",
   "execution_count": 149,
   "metadata": {},
   "outputs": [
    {
     "data": {
      "text/plain": [
       "array([[-6.96876640e-01],\n",
       "       [ 5.28765750e+00],\n",
       "       [ 1.64898870e+01],\n",
       "       [ 7.76828554e+01],\n",
       "       [ 1.65794942e+02],\n",
       "       [ 3.04455901e+02],\n",
       "       [ 5.04584120e+02],\n",
       "       [ 7.76656114e+02],\n",
       "       [ 1.15068569e+03],\n",
       "       [ 1.61169706e+03]])"
      ]
     },
     "execution_count": 149,
     "metadata": {},
     "output_type": "execute_result"
    }
   ],
   "source": [
    "test_function_2(x0)"
   ]
  },
  {
   "cell_type": "code",
   "execution_count": 157,
   "metadata": {},
   "outputs": [
    {
     "data": {
      "text/plain": [
       "array([[  0,  -1,  -2,  -3,  -4,  -5,  -6,  -7,  -8,  -9],\n",
       "       [  0,  -2,  -4,  -6,  -8, -10, -12, -14, -16, -18],\n",
       "       [  0,   3,   6,   9,  12,  15,  18,  21,  24,  27]])"
      ]
     },
     "execution_count": 157,
     "metadata": {},
     "output_type": "execute_result"
    }
   ],
   "source": [
    "test_gradient_2(x0)"
   ]
  },
  {
   "cell_type": "code",
   "execution_count": 160,
   "metadata": {},
   "outputs": [
    {
     "data": {
      "text/plain": [
       "array([[-34631.63190457],\n",
       "       [-69263.26380914],\n",
       "       [103894.89571372]])"
      ]
     },
     "execution_count": 160,
     "metadata": {},
     "output_type": "execute_result"
    }
   ],
   "source": [
    "test_gradient_2(x0) @ test_function_2(x0) "
   ]
  },
  {
   "cell_type": "code",
   "execution_count": 161,
   "metadata": {},
   "outputs": [],
   "source": [
    "# Define values of t, y_t and x0\n",
    "t = np.arange(0.5, 4.5, 0.5)\n",
    "y_t = np.array([7.2, 3.0, 1.5, 0.85, 0.48, 0.25, 0.20, 0.15])\n",
    "x0 = [1, 1]\n",
    "\n",
    "# Define test function\n",
    "def test_function_1(x_k):\n",
    "        \n",
    "    y = y_t\n",
    "    x = t\n",
    "    fx = y - (x_k[0] * np.exp(x_k[1] * x))\n",
    "        \n",
    "    return fx\n",
    "\n",
    "# Define gradient function\n",
    "def test_gradient_1(x_k):\n",
    "        \n",
    "    x = t\n",
    "    grad_fx = np.array([-np.exp(x_k[1] * x), -x * x_k[0] * np.exp(x_k[1] * x)])\n",
    "        \n",
    "    return grad_fx.reshape(-1, 1)"
   ]
  },
  {
   "cell_type": "code",
   "execution_count": 162,
   "metadata": {},
   "outputs": [
    {
     "data": {
      "text/plain": [
       "(8,)"
      ]
     },
     "execution_count": 162,
     "metadata": {},
     "output_type": "execute_result"
    }
   ],
   "source": [
    "test_function_1(x0).shape"
   ]
  },
  {
   "cell_type": "code",
   "execution_count": 163,
   "metadata": {},
   "outputs": [
    {
     "data": {
      "text/plain": [
       "(3, 8)"
      ]
     },
     "execution_count": 163,
     "metadata": {},
     "output_type": "execute_result"
    }
   ],
   "source": [
    "test_gradient_2(x0).shape"
   ]
  },
  {
   "cell_type": "code",
   "execution_count": 164,
   "metadata": {},
   "outputs": [
    {
     "data": {
      "text/plain": [
       "array([  436.25281593,   872.50563185, -1308.75844778])"
      ]
     },
     "execution_count": 164,
     "metadata": {},
     "output_type": "execute_result"
    }
   ],
   "source": [
    "test_gradient_2(x0) @ test_function_1(x0)"
   ]
  },
  {
   "cell_type": "code",
   "execution_count": 55,
   "metadata": {},
   "outputs": [],
   "source": [
    "t = np.arange(0.5, 4.5, 0.5)\n",
    "y_t = np.array([7.2, 3.0, 1.5, 0.85, 0.48, 0.25, 0.20, 0.15])\n",
    "x0 = [1, 1]\n",
    "\n",
    "# Define test function\n",
    "def test_function_1(x_k):\n",
    "        \n",
    "    y = y_t\n",
    "    x = t\n",
    "    fx = y - x_k[0] * np.exp(x_k[1] * x)\n",
    "        \n",
    "    return fx"
   ]
  },
  {
   "cell_type": "code",
   "execution_count": 56,
   "metadata": {},
   "outputs": [
    {
     "data": {
      "text/plain": [
       "array([  5.55127873,   0.28171817,  -2.98168907,  -6.5390561 ,\n",
       "       -11.70249396, -19.83553692, -32.91545196, -54.44815003])"
      ]
     },
     "execution_count": 56,
     "metadata": {},
     "output_type": "execute_result"
    }
   ],
   "source": [
    "fx = test_function_1(x0)\n",
    "fx"
   ]
  },
  {
   "cell_type": "code",
   "execution_count": 57,
   "metadata": {},
   "outputs": [
    {
     "data": {
      "text/plain": [
       "array([[ -5.26956056,  -4.2664839 ,  -3.41038714,  -4.36040245,\n",
       "         -6.64824041, -10.606479  , -17.30630655, -21.53269807],\n",
       "       [ -5.26956056,  -4.2664839 ,  -3.41038714,  -4.36040245,\n",
       "         -6.64824041, -10.606479  , -17.30630655, -21.53269807]])"
      ]
     },
     "execution_count": 57,
     "metadata": {},
     "output_type": "execute_result"
    }
   ],
   "source": [
    "grad = np.gradient(fx)\n",
    "grad_fx = np.stack((grad, grad))\n",
    "grad_fx"
   ]
  },
  {
   "cell_type": "code",
   "execution_count": 58,
   "metadata": {},
   "outputs": [],
   "source": [
    "def test_gradient_1(x_k):\n",
    "        \n",
    "    x = t\n",
    "    grad_fx = np.array([-np.exp(x_k[1] * x), -x * x_k[0] * np.exp(x_k[1] * x)])\n",
    "        \n",
    "    return grad_fx"
   ]
  },
  {
   "cell_type": "code",
   "execution_count": 59,
   "metadata": {},
   "outputs": [
    {
     "data": {
      "text/plain": [
       "array([[  -1.64872127,   -2.71828183,   -4.48168907,   -7.3890561 ,\n",
       "         -12.18249396,  -20.08553692,  -33.11545196,  -54.59815003],\n",
       "       [  -0.82436064,   -2.71828183,   -6.72253361,  -14.7781122 ,\n",
       "         -30.4562349 ,  -60.25661077, -115.90408186, -218.39260013]])"
      ]
     },
     "execution_count": 59,
     "metadata": {},
     "output_type": "execute_result"
    }
   ],
   "source": [
    "test_gradient_1(x0)"
   ]
  }
 ],
 "metadata": {
  "kernelspec": {
   "display_name": "Python 3 (ipykernel)",
   "language": "python",
   "name": "python3"
  },
  "language_info": {
   "codemirror_mode": {
    "name": "ipython",
    "version": 3
   },
   "file_extension": ".py",
   "mimetype": "text/x-python",
   "name": "python",
   "nbconvert_exporter": "python",
   "pygments_lexer": "ipython3",
   "version": "3.8.5"
  }
 },
 "nbformat": 4,
 "nbformat_minor": 4
}
