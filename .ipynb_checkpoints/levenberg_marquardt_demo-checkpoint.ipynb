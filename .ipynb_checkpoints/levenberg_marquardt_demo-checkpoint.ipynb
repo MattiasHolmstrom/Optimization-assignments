{
 "cells": [
  {
   "cell_type": "markdown",
   "id": "685d440b",
   "metadata": {},
   "source": [
    "## Optimization: Assignment 1\n",
    "\n",
    "### Non-linear least squares problems and the Levenberg-Marquardt algorithm\n",
    "\n",
    "#### Introduction to the algorithm\n",
    "\n",
    "**[Add description / theory here]**"
   ]
  },
  {
   "cell_type": "markdown",
   "id": "0d65692c",
   "metadata": {},
   "source": [
    "In this demo we will test the LM code on two nonlinear least squares problems: the one given in the assigment and a cubic function with three parameters.\n",
    "\n",
    "Let's start by importing the necessary packages and the class containing the optimization algorithm."
   ]
  },
  {
   "cell_type": "code",
   "execution_count": 139,
   "id": "2f1f09c0",
   "metadata": {},
   "outputs": [],
   "source": [
    "# Standard package imports\n",
    "\n",
    "import numpy as np\n",
    "import matplotlib.pyplot as plt\n",
    "#import jupyter_black\n",
    "\n",
    "#jupyter_black.load()"
   ]
  },
  {
   "cell_type": "code",
   "execution_count": 140,
   "id": "2a9718f1",
   "metadata": {},
   "outputs": [
    {
     "name": "stdout",
     "output_type": "stream",
     "text": [
      "The autoreload extension is already loaded. To reload it, use:\n",
      "  %reload_ext autoreload\n"
     ]
    }
   ],
   "source": [
    "# Change working directory to core to enable codebase imports\n",
    "\n",
    "import os\n",
    "\n",
    "#os.chdir(\"..\\\\optimization-repo\")\n",
    "\n",
    "#os.chdir(\"..\\\\opt\")\n",
    "\n",
    "%load_ext autoreload\n",
    "%autoreload 2\n",
    "\n",
    "# Import Levenberg-Marquardt class from codebase\n",
    "\n",
    "from levenberg_marquardt import LevenbergMarquardt"
   ]
  },
  {
   "cell_type": "code",
   "execution_count": 141,
   "id": "ed4fcfb4",
   "metadata": {},
   "outputs": [
    {
     "data": {
      "text/plain": [
       "'/Users/mattias/Projekt/Optimization/Optimisation-assignments'"
      ]
     },
     "execution_count": 141,
     "metadata": {},
     "output_type": "execute_result"
    }
   ],
   "source": [
    "os.getcwd()"
   ]
  },
  {
   "cell_type": "markdown",
   "id": "6d19d128",
   "metadata": {},
   "source": [
    "### Test case 1: Exponential function given in the assignment\n",
    "\n",
    "The model is given by \n",
    "\n",
    "$$\n",
    "    y(t) = x_1 e^{x_2 t}\n",
    "$$\n",
    "\n",
    "We will test this on the datapoints in the assignment. Start by creating arrays with inputs and defining the function and gradient to be used."
   ]
  },
  {
   "cell_type": "code",
   "execution_count": 149,
   "id": "3f93bb21",
   "metadata": {},
   "outputs": [],
   "source": [
    "# TEST CASE 1 (given in the assignment)\n",
    "\n",
    "# Define values of t, y_t and x0\n",
    "t = np.arange(0.5, 4.5, 0.5)\n",
    "y_t = np.array([7.2, 3.0, 1.5, 0.85, 0.48, 0.25, 0.20, 0.15])\n",
    "\n",
    "# Define test function\n",
    "def test_function_1(x_k):\n",
    "\n",
    "    fx = y_t - (x_k[0] * np.exp(x_k[1] * t))\n",
    "    return fx\n",
    "\n",
    "\n",
    "# Define gradient function\n",
    "def test_gradient_1(x_k):\n",
    "\n",
    "    grad_fx = np.array([-np.exp(x_k[1] * t), -t * x_k[0] * np.exp(x_k[1] * t)])\n",
    "    return grad_fx"
   ]
  },
  {
   "cell_type": "markdown",
   "id": "84b4e91a",
   "metadata": {},
   "source": [
    "#### Run the algorithm with gradient function supplied"
   ]
  },
  {
   "cell_type": "code",
   "execution_count": 162,
   "id": "04366d3c",
   "metadata": {},
   "outputs": [
    {
     "name": "stdout",
     "output_type": "stream",
     "text": [
      "------ Output report ------\n",
      "\n",
      "Successful convergence: True\n",
      "Parameter values: [ 0.57  -0.345]\n",
      "Function value: 6.70354725233559\n",
      "Number of iterations: 0\n",
      "Final gradient vector: [0. 0.]\n"
     ]
    },
    {
     "data": {
      "image/png": "[encoded data removed]",
      "text/plain": [
       "<Figure size 720x288 with 2 Axes>"
      ]
     },
     "metadata": {
      "needs_background": "light"
     },
     "output_type": "display_data"
    }
   ],
   "source": [
    "# Initialize optimizer WITH gradient argument\n",
    "optimizer_1 = LevenbergMarquardt(\n",
    "    func=test_function_1,\n",
    "    #grad=test_gradient_1,\n",
    "    tol=1e-7,\n",
    "    lambda_=1,\n",
    "    alpha=1,\n",
    "    max_iter=1000,\n",
    "    plot_conv=True,\n",
    ")\n",
    "\n",
    "# Set initial parameter values\n",
    "x0 = np.array([.57, -.345])\n",
    "\n",
    "# Run optimizer\n",
    "x_k, mse, y_diff = optimizer_1.minimize(x0)"
   ]
  },
  {
   "cell_type": "code",
   "execution_count": 161,
   "id": "fabd9baf",
   "metadata": {},
   "outputs": [
    {
     "data": {
      "image/png": "[encoded data removed]",
      "text/plain": [
       "<Figure size 432x288 with 1 Axes>"
      ]
     },
     "metadata": {
      "needs_background": "light"
     },
     "output_type": "display_data"
    }
   ],
   "source": [
    "# Plot the results\n",
    "\n",
    "# Create plot\n",
    "plt.figure(figsize=(6, 4))\n",
    "plt.title(\"Least squares solution\", fontsize=14, pad=16)\n",
    "plt.xlabel(\"x\", fontsize=12)\n",
    "plt.ylabel(\"f(x)\", fontsize=12)\n",
    "\n",
    "# Calculate least squares solution (line)\n",
    "line_range = np.arange(min(t), max(t) + 0.1, 0.1)\n",
    "line_values = [x_k[0] * np.exp(x_k[1] * line_range[i]) for i in range(len(line_range))]\n",
    "\n",
    "# Plot solution and original datapoints\n",
    "plt.scatter(t, y_t, color=\"red\")\n",
    "plt.plot(line_range, line_values, color=\"blue\")\n",
    "plt.show()"
   ]
  },
  {
   "cell_type": "markdown",
   "id": "834de165",
   "metadata": {},
   "source": [
    "#### Run the algorithm using numerically approximated gradient"
   ]
  },
  {
   "cell_type": "markdown",
   "id": "f147e8fd",
   "metadata": {},
   "source": [
    "### Test case 2: Quadratic function\n",
    "\n",
    "The model is now given by \n",
    "\n",
    "$$\n",
    "    y(t) = x_1t + x_2t^2 - x_3t^3\n",
    "$$\n",
    "\n",
    "Datapoints (i.e. the \"true\" $y$-values) are simulated using the parameters $x = \\{x_1 = 1, x_2 = 1.5, x_3 = -2\\}$ and addition of a noise term $\\epsilon \\sim \\mathcal{N}(0, 1)$."
   ]
  },
  {
   "cell_type": "code",
   "execution_count": 146,
   "id": "62520602",
   "metadata": {},
   "outputs": [],
   "source": [
    "# Define values of t, y_t and x0\n",
    "x_true = [1, 1.5, -2]\n",
    "y_calc = (\n",
    "    lambda t: x_true[0] * t + x_true[1] * np.power(t, 2) - x_true[2] * np.power(t, 3)\n",
    ")\n",
    "t = np.array(np.arange(0, 3, 0.1))\n",
    "y_t = np.array([y_calc(t_val) for t_val in t]) + np.random.normal(\n",
    "    loc=0, scale=1, size=(1, len(t))\n",
    ")\n",
    "\n",
    "# Define test function\n",
    "def test_function_2(x_k):\n",
    "\n",
    "    fx = y_t - (x_k[0] * t + x_k[1] * np.power(t, 2) - x_k[2] * np.power(t, 3))\n",
    "    return fx\n",
    "\n",
    "\n",
    "# Define gradient function\n",
    "def test_gradient_2(x_k):\n",
    "\n",
    "    grad_fx = np.array([-t, -2 * t, 3 * t])\n",
    "    return grad_fx"
   ]
  },
  {
   "cell_type": "code",
   "execution_count": 147,
   "id": "142b26b8",
   "metadata": {},
   "outputs": [
    {
     "name": "stdout",
     "output_type": "stream",
     "text": [
      "------ Output report ------\n",
      "\n",
      "Successful convergence: True\n",
      "Parameter values: [ 1.79643471  2.59286942 -1.38930414]\n",
      "Function value: 3.67115370686193\n",
      "Number of iterations: 98\n",
      "Final gradient vector: [-0.00016392 -0.00032783  0.00049175]\n"
     ]
    },
    {
     "data": {
      "image/png": "[encoded data removed]",
      "text/plain": [
       "<Figure size 720x288 with 2 Axes>"
      ]
     },
     "metadata": {
      "needs_background": "light"
     },
     "output_type": "display_data"
    }
   ],
   "source": [
    "# Initialize optimizer WITH gradient argument\n",
    "optimizer_2 = LevenbergMarquardt(\n",
    "    func=test_function_2,\n",
    "    grad=test_gradient_2,\n",
    "    tol=1e-3,\n",
    "    lambda_=1,\n",
    "    alpha=0.1,\n",
    "    max_iter=1000,\n",
    "    plot_conv=True,\n",
    ")\n",
    "\n",
    "# Set initial parameter values\n",
    "x0 = np.array([1, 1, 1])\n",
    "\n",
    "# Run optimizer\n",
    "x_k, mse, y_diff = optimizer_2.minimize(x0)"
   ]
  },
  {
   "cell_type": "code",
   "execution_count": 148,
   "id": "9532ac4d",
   "metadata": {},
   "outputs": [
    {
     "data": {
      "image/png": "[encoded data removed]",
      "text/plain": [
       "<Figure size 432x288 with 1 Axes>"
      ]
     },
     "metadata": {
      "needs_background": "light"
     },
     "output_type": "display_data"
    }
   ],
   "source": [
    "# Plot the results\n",
    "\n",
    "# Create plot\n",
    "plt.figure(figsize=(6, 4))\n",
    "plt.title(\"Least squares solution\", fontsize=14, pad=16)\n",
    "plt.xlabel(\"x\", fontsize=12)\n",
    "plt.ylabel(\"f(x)\", fontsize=12)\n",
    "\n",
    "# Calculate least squares solution (line)\n",
    "line_range = np.arange(min(t), max(t) + 0.1, 0.1)\n",
    "line_values = [\n",
    "    x_k[0] * i + x_k[1] * np.power(i, 2) - x_k[2] * np.power(i, 3) for i in line_range\n",
    "]\n",
    "\n",
    "# Plot solution and original datapoints\n",
    "plt.scatter(t, y_t, color=\"red\")\n",
    "plt.plot(line_range, line_values, color=\"blue\")\n",
    "plt.show()"
   ]
  },
  {
   "cell_type": "markdown",
   "id": "f7bfc1e3",
   "metadata": {},
   "source": [
    "### Experimenting with different values of lambda and step sizes\n",
    "\n",
    "@Mattias"
   ]
  },
  {
   "cell_type": "code",
   "execution_count": null,
   "id": "4b5a7fa8",
   "metadata": {},
   "outputs": [],
   "source": []
  }
 ],
 "metadata": {
  "kernelspec": {
   "display_name": "Python 3 (ipykernel)",
   "language": "python",
   "name": "python3"
  },
  "language_info": {
   "codemirror_mode": {
    "name": "ipython",
    "version": 3
   },
   "file_extension": ".py",
   "mimetype": "text/x-python",
   "name": "python",
   "nbconvert_exporter": "python",
   "pygments_lexer": "ipython3",
   "version": "3.9.7"
  }
 },
 "nbformat": 4,
 "nbformat_minor": 5
}
