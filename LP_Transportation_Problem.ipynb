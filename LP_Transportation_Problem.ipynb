{
 "cells": [
  {
   "cell_type": "markdown",
   "id": "55475493",
   "metadata": {},
   "source": [
    "### Assignment 3\n",
    "\n",
    "## Transportation problem\n",
    "\n",
    "In the transportation problem our goal is to minimise the cost of transporting a product from a given number of suppliers to a given number of destinations.\n",
    "\n",
    "The problem is solved by Linear Programming.\n",
    "\n",
    "Given that the possible supply of said supplier is denoted by $S_i$\n",
    "\n",
    "The demand of each destination is denoted by $D_j$\n",
    "\n",
    "The cost for transporting from a supplier to destination is given by $c_{ij}$\n",
    "\n",
    "The quantity of said product/material that is transported between supplier i to destination j is given by $x_{ij}$"
   ]
  },
  {
   "cell_type": "markdown",
   "id": "e6b5969a",
   "metadata": {},
   "source": [
    "1. Formulate as a Linear programming problem"
   ]
  },
  {
   "cell_type": "markdown",
   "id": "160f068a",
   "metadata": {},
   "source": [
    "Given the above definitions we can formulate the problem as follows\n",
    "\n",
    "Minimise $$c^Tx$$\n",
    "Such that: \n",
    "$$x = S$$\n",
    "$$x = D$$\n",
    "\n",
    "Formulation using sums\n",
    "\n",
    "Minimise $$\\sum_{i=1}^{M}\\sum_{j=1}^{N}c_{ij}x_{ij}$$\n",
    "\n",
    "Subject to the constraints:\n",
    "\n",
    "$$\\sum_{j=1}^{N}x_{ij} = S_i, i = 1,...., M$$\n",
    "$$\\sum_{i=1}^{M}x_{ij} = D_i, j = 1,...., N$$\n",
    "\n",
    "$$x_{ij}\\geq 0, i = 1,...., M, j = 1,...., N$$"
   ]
  },
  {
   "cell_type": "code",
   "execution_count": 2,
   "id": "d5bd3717",
   "metadata": {},
   "outputs": [],
   "source": [
    "import numpy as np\n",
    "from scipy.optimize import linprog"
   ]
  },
  {
   "cell_type": "code",
   "execution_count": 39,
   "id": "555b87ab",
   "metadata": {},
   "outputs": [
    {
     "name": "stderr",
     "output_type": "stream",
     "text": [
      "/var/folders/vz/w2nj9zh533s9_k79r1ymmh440000gn/T/ipykernel_84968/1541555968.py:7: VisibleDeprecationWarning: Creating an ndarray from ragged nested sequences (which is a list-or-tuple of lists-or-tuples-or ndarrays with different lengths or shapes) is deprecated. If you meant to do this, you must specify 'dtype=object' when creating the ndarray.\n",
      "  A = np.array([[],\n"
     ]
    },
    {
     "data": {
      "text/plain": [
       "(12,)"
      ]
     },
     "execution_count": 39,
     "metadata": {},
     "output_type": "execute_result"
    }
   ],
   "source": [
    "M = 3\n",
    "N = 4\n",
    "S = np.array([25, 55, 35])\n",
    "D = np.array([15, 45, 30, 25])\n",
    "c = np.array([10, 0, 20, 11, 12, 7, 9, 20, 0, 14, 16, 18])\n",
    "\n",
    "A = np.array([[],\n",
    "             [12, 7, 9, 20],\n",
    "             [0, 14, 16, 18],\n",
    "             [10, 12, 0],\n",
    "             [0, 7, 14],\n",
    "             [20, 9, 16],\n",
    "             [11, 12, 18]])\n",
    "\n",
    "\n",
    "A = np.ones((N, c.shape[0]))\n",
    "b = np.array([25, 55, 35, 15, 45, 30, 25])\n",
    "\n",
    "c.shape"
   ]
  },
  {
   "cell_type": "code",
   "execution_count": 36,
   "id": "10f5c0eb",
   "metadata": {},
   "outputs": [
    {
     "ename": "ValueError",
     "evalue": "Invalid input for linprog: b_eq must be a 1-D array; b_eq must not have more than one non-singleton dimension and the number of rows in A_eq must equal the number of values in b_eq",
     "output_type": "error",
     "traceback": [
      "\u001b[0;31m---------------------------------------------------------------------------\u001b[0m",
      "\u001b[0;31mValueError\u001b[0m                                Traceback (most recent call last)",
      "\u001b[0;32m/var/folders/vz/w2nj9zh533s9_k79r1ymmh440000gn/T/ipykernel_84968/2597259527.py\u001b[0m in \u001b[0;36m<module>\u001b[0;34m\u001b[0m\n\u001b[0;32m----> 1\u001b[0;31m \u001b[0mres\u001b[0m \u001b[0;34m=\u001b[0m \u001b[0mlinprog\u001b[0m\u001b[0;34m(\u001b[0m\u001b[0mc\u001b[0m\u001b[0;34m,\u001b[0m \u001b[0mA_eq\u001b[0m\u001b[0;34m=\u001b[0m\u001b[0mA\u001b[0m\u001b[0;34m,\u001b[0m \u001b[0mb_eq\u001b[0m\u001b[0;34m=\u001b[0m\u001b[0mb\u001b[0m\u001b[0;34m,\u001b[0m \u001b[0mmethod\u001b[0m\u001b[0;34m=\u001b[0m\u001b[0;34m'simplex'\u001b[0m\u001b[0;34m)\u001b[0m\u001b[0;34m\u001b[0m\u001b[0;34m\u001b[0m\u001b[0m\n\u001b[0m",
      "\u001b[0;32m~/opt/anaconda3/lib/python3.9/site-packages/scipy/optimize/_linprog.py\u001b[0m in \u001b[0;36mlinprog\u001b[0;34m(c, A_ub, b_ub, A_eq, b_eq, bounds, method, callback, options, x0)\u001b[0m\n\u001b[1;32m    590\u001b[0m \u001b[0;34m\u001b[0m\u001b[0m\n\u001b[1;32m    591\u001b[0m     \u001b[0mlp\u001b[0m \u001b[0;34m=\u001b[0m \u001b[0m_LPProblem\u001b[0m\u001b[0;34m(\u001b[0m\u001b[0mc\u001b[0m\u001b[0;34m,\u001b[0m \u001b[0mA_ub\u001b[0m\u001b[0;34m,\u001b[0m \u001b[0mb_ub\u001b[0m\u001b[0;34m,\u001b[0m \u001b[0mA_eq\u001b[0m\u001b[0;34m,\u001b[0m \u001b[0mb_eq\u001b[0m\u001b[0;34m,\u001b[0m \u001b[0mbounds\u001b[0m\u001b[0;34m,\u001b[0m \u001b[0mx0\u001b[0m\u001b[0;34m)\u001b[0m\u001b[0;34m\u001b[0m\u001b[0;34m\u001b[0m\u001b[0m\n\u001b[0;32m--> 592\u001b[0;31m     \u001b[0mlp\u001b[0m\u001b[0;34m,\u001b[0m \u001b[0msolver_options\u001b[0m \u001b[0;34m=\u001b[0m \u001b[0m_parse_linprog\u001b[0m\u001b[0;34m(\u001b[0m\u001b[0mlp\u001b[0m\u001b[0;34m,\u001b[0m \u001b[0moptions\u001b[0m\u001b[0;34m,\u001b[0m \u001b[0mmeth\u001b[0m\u001b[0;34m)\u001b[0m\u001b[0;34m\u001b[0m\u001b[0;34m\u001b[0m\u001b[0m\n\u001b[0m\u001b[1;32m    593\u001b[0m     \u001b[0mtol\u001b[0m \u001b[0;34m=\u001b[0m \u001b[0msolver_options\u001b[0m\u001b[0;34m.\u001b[0m\u001b[0mget\u001b[0m\u001b[0;34m(\u001b[0m\u001b[0;34m'tol'\u001b[0m\u001b[0;34m,\u001b[0m \u001b[0;36m1e-9\u001b[0m\u001b[0;34m)\u001b[0m\u001b[0;34m\u001b[0m\u001b[0;34m\u001b[0m\u001b[0m\n\u001b[1;32m    594\u001b[0m \u001b[0;34m\u001b[0m\u001b[0m\n",
      "\u001b[0;32m~/opt/anaconda3/lib/python3.9/site-packages/scipy/optimize/_linprog_util.py\u001b[0m in \u001b[0;36m_parse_linprog\u001b[0;34m(lp, options, meth)\u001b[0m\n\u001b[1;32m   1001\u001b[0m                                                       lp.A_ub, lp.A_eq)\n\u001b[1;32m   1002\u001b[0m     \u001b[0;31m# Convert lists to numpy arrays, etc...\u001b[0m\u001b[0;34m\u001b[0m\u001b[0;34m\u001b[0m\u001b[0m\n\u001b[0;32m-> 1003\u001b[0;31m     \u001b[0mlp\u001b[0m \u001b[0;34m=\u001b[0m \u001b[0m_clean_inputs\u001b[0m\u001b[0;34m(\u001b[0m\u001b[0mlp\u001b[0m\u001b[0;34m.\u001b[0m\u001b[0m_replace\u001b[0m\u001b[0;34m(\u001b[0m\u001b[0mA_ub\u001b[0m\u001b[0;34m=\u001b[0m\u001b[0mA_ub\u001b[0m\u001b[0;34m,\u001b[0m \u001b[0mA_eq\u001b[0m\u001b[0;34m=\u001b[0m\u001b[0mA_eq\u001b[0m\u001b[0;34m)\u001b[0m\u001b[0;34m)\u001b[0m\u001b[0;34m\u001b[0m\u001b[0;34m\u001b[0m\u001b[0m\n\u001b[0m\u001b[1;32m   1004\u001b[0m     \u001b[0;32mreturn\u001b[0m \u001b[0mlp\u001b[0m\u001b[0;34m,\u001b[0m \u001b[0msolver_options\u001b[0m\u001b[0;34m\u001b[0m\u001b[0;34m\u001b[0m\u001b[0m\n\u001b[1;32m   1005\u001b[0m \u001b[0;34m\u001b[0m\u001b[0m\n",
      "\u001b[0;32m~/opt/anaconda3/lib/python3.9/site-packages/scipy/optimize/_linprog_util.py\u001b[0m in \u001b[0;36m_clean_inputs\u001b[0;34m(lp)\u001b[0m\n\u001b[1;32m    353\u001b[0m     \u001b[0;32melse\u001b[0m\u001b[0;34m:\u001b[0m\u001b[0;34m\u001b[0m\u001b[0;34m\u001b[0m\u001b[0m\n\u001b[1;32m    354\u001b[0m         \u001b[0;32mif\u001b[0m \u001b[0mb_eq\u001b[0m\u001b[0;34m.\u001b[0m\u001b[0mshape\u001b[0m \u001b[0;34m!=\u001b[0m \u001b[0;34m(\u001b[0m\u001b[0mn_eq\u001b[0m\u001b[0;34m,\u001b[0m\u001b[0;34m)\u001b[0m\u001b[0;34m:\u001b[0m\u001b[0;34m\u001b[0m\u001b[0;34m\u001b[0m\u001b[0m\n\u001b[0;32m--> 355\u001b[0;31m             raise ValueError(\n\u001b[0m\u001b[1;32m    356\u001b[0m                 \u001b[0;34m\"Invalid input for linprog: b_eq must be a 1-D array; b_eq \"\u001b[0m\u001b[0;34m\u001b[0m\u001b[0;34m\u001b[0m\u001b[0m\n\u001b[1;32m    357\u001b[0m                 \u001b[0;34m\"must not have more than one non-singleton dimension and \"\u001b[0m\u001b[0;34m\u001b[0m\u001b[0;34m\u001b[0m\u001b[0m\n",
      "\u001b[0;31mValueError\u001b[0m: Invalid input for linprog: b_eq must be a 1-D array; b_eq must not have more than one non-singleton dimension and the number of rows in A_eq must equal the number of values in b_eq"
     ]
    }
   ],
   "source": [
    "res = linprog(c, A_eq=A, b_eq=b, method='simplex')"
   ]
  },
  {
   "cell_type": "code",
   "execution_count": null,
   "id": "4e7c8dcb",
   "metadata": {},
   "outputs": [],
   "source": []
  }
 ],
 "metadata": {
  "kernelspec": {
   "display_name": "Python 3 (ipykernel)",
   "language": "python",
   "name": "python3"
  },
  "language_info": {
   "codemirror_mode": {
    "name": "ipython",
    "version": 3
   },
   "file_extension": ".py",
   "mimetype": "text/x-python",
   "name": "python",
   "nbconvert_exporter": "python",
   "pygments_lexer": "ipython3",
   "version": "3.9.7"
  }
 },
 "nbformat": 4,
 "nbformat_minor": 5
}
