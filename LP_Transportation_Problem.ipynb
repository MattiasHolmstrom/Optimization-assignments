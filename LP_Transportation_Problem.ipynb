{
 "cells": [
  {
   "cell_type": "markdown",
   "id": "55475493",
   "metadata": {},
   "source": [
    "### Assignment 3\n",
    "\n",
    "## Transportation problem\n",
    "\n",
    "In the transportation problem our goal is to minimise the cost of transporting a product from a given number of suppliers to a given number of destinations.\n",
    "\n",
    "The problem is solved by Linear Programming.\n",
    "\n",
    "Given that the possible supply of said supplier is denoted by $S_i$\n",
    "\n",
    "The demand of each destination is denoted by $D_j$\n",
    "\n",
    "The cost for transporting from a supplier to destination is given by $c_{ij}$\n",
    "\n",
    "The quantity of said product/material that is transported between supplier i to destination j is given by $x_{ij}$"
   ]
  },
  {
   "cell_type": "markdown",
   "id": "e6b5969a",
   "metadata": {},
   "source": [
    "1. Formulate as a Linear programming problem"
   ]
  },
  {
   "cell_type": "markdown",
   "id": "160f068a",
   "metadata": {},
   "source": [
    "Given the above definitions we can formulate the problem as follows\n",
    "\n",
    "Minimise $$c^Tx$$\n",
    "Such that: \n",
    "$$x = S$$  (Simplified, will be revised or removed)\n",
    "$$x = D$$\n",
    "\n",
    "Formulation using sums\n",
    "\n",
    "Minimise $$\\sum_{i=1}^{M}\\sum_{j=1}^{N}c_{ij}x_{ij}$$\n",
    "\n",
    "Subject to the constraints:\n",
    "\n",
    "$$\\sum_{j=1}^{N}x_{ij} = S_i, i = 1,...., M$$\n",
    "$$\\sum_{i=1}^{M}x_{ij} = D_j, j = 1,...., N$$\n",
    "\n",
    "$$x_{ij}\\geq 0, i = 1,...., M, j = 1,...., N$$"
   ]
  },
  {
   "cell_type": "code",
   "execution_count": 2,
   "id": "d5bd3717",
   "metadata": {},
   "outputs": [],
   "source": [
    "import numpy as np\n",
    "from scipy.optimize import linprog"
   ]
  },
  {
   "cell_type": "code",
   "execution_count": 58,
   "id": "555b87ab",
   "metadata": {},
   "outputs": [],
   "source": [
    "M = 3\n",
    "N = 4\n",
    "S = np.array([25, 55, 35])\n",
    "D = np.array([15, 45, 30, 25])\n",
    "c = np.array([10, 0, 20, 11, 12, 7, 9, 20, 0, 14, 16, 18])\n",
    "\n",
    "b = np.array([25, 55, 35, 15, 45, 30, 25])"
   ]
  },
  {
   "cell_type": "code",
   "execution_count": 59,
   "id": "df3004a8",
   "metadata": {},
   "outputs": [],
   "source": [
    "A = np.array([[1, 1, 1, 1, 0, 0, 0, 0, 0, 0, 0, 0],\n",
    "              [0, 0, 0, 0, 1, 1, 1, 1, 0, 0, 0, 0],\n",
    "              [0, 0, 0, 0, 0, 0, 0, 0, 1, 1, 1, 1],\n",
    "              [1, 0, 0, 0, 1, 0, 0, 0, 1, 0, 0, 0],\n",
    "              [0, 1, 0, 0, 0, 1, 0, 0, 0, 1, 0, 0],\n",
    "              [0, 0, 1, 0, 0, 0, 1, 0, 0, 0, 1, 0],\n",
    "              [0, 0, 0, 1, 0, 0, 0, 1, 0, 0, 0, 1]])"
   ]
  },
  {
   "cell_type": "code",
   "execution_count": 64,
   "id": "10f5c0eb",
   "metadata": {},
   "outputs": [
    {
     "name": "stderr",
     "output_type": "stream",
     "text": [
      "/var/folders/vz/w2nj9zh533s9_k79r1ymmh440000gn/T/ipykernel_91892/1411674196.py:1: OptimizeWarning: A_eq does not appear to be of full row rank. To improve performance, check the problem formulation for redundant equality constraints.\n",
      "  res = linprog(c, A_eq =A , b_eq=b, method='simplex')\n"
     ]
    }
   ],
   "source": [
    "res = linprog(c, A_eq =A , b_eq=b, method='simplex')"
   ]
  },
  {
   "cell_type": "code",
   "execution_count": 65,
   "id": "4e7c8dcb",
   "metadata": {},
   "outputs": [
    {
     "data": {
      "text/plain": [
       "     con: array([0., 0., 0., 0., 0., 0., 0.])\n",
       "     fun: 860.0\n",
       " message: 'Optimization terminated successfully.'\n",
       "     nit: 9\n",
       "   slack: array([], dtype=float64)\n",
       "  status: 0\n",
       " success: True\n",
       "       x: array([ 0., 20.,  0.,  5.,  0., 25., 30.,  0., 15.,  0.,  0., 20.])"
      ]
     },
     "execution_count": 65,
     "metadata": {},
     "output_type": "execute_result"
    }
   ],
   "source": [
    "res"
   ]
  },
  {
   "cell_type": "code",
   "execution_count": null,
   "id": "6fd4f430",
   "metadata": {},
   "outputs": [],
   "source": []
  }
 ],
 "metadata": {
  "kernelspec": {
   "display_name": "Python 3 (ipykernel)",
   "language": "python",
   "name": "python3"
  },
  "language_info": {
   "codemirror_mode": {
    "name": "ipython",
    "version": 3
   },
   "file_extension": ".py",
   "mimetype": "text/x-python",
   "name": "python",
   "nbconvert_exporter": "python",
   "pygments_lexer": "ipython3",
   "version": "3.9.7"
  }
 },
 "nbformat": 4,
 "nbformat_minor": 5
}
