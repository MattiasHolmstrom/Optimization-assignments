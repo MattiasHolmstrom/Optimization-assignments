{
 "cells": [
  {
   "cell_type": "markdown",
   "id": "4974871c",
   "metadata": {},
   "source": [
    "The formulation of matrices was done as follows.\n",
    "\n",
    "b is simply the constraints of the problem, where supply vector is followed by demand vector.\n",
    "\n",
    "c is the vector of costs for each $x_{ij}$.\n",
    "\n",
    "A is a matrix with as many rows as there are constraints and as many columns as there are costs.\n",
    "Thus each row contains the full X matrix in flattened form.\n",
    "\n",
    "At supply constraints the following $x_{ij}$ are active.\n",
    "$$x_{11}+ x_{12} + x_{13} + x_{14} = S_1$$\n",
    "$$x_{21}+ x_{22} + x_{23} + x_{24} = S_2$$\n",
    "$$x_{31}+ x_{32} + x_{33} + x_{34} = S_3$$\n",
    "At demand constraints we have the following $x_{ij}$ are active.\n",
    "$$x_{11} + x_{21} + x_{31} = D_1$$\n",
    "$$x_{12} + x_{22} + x_{32} = D_2$$\n",
    "$$x_{13} + x_{23} + x_{33} = D_3$$\n",
    "$$x_{14} + x_{24} + x_{34} = D_4$$\n",
    "\n",
    "By inserting the active $x_{ij}$ as 1s into each row where they are active to constraint gives us the matrix A, all $x_{ij}$ which are not active at said constraint are set to 0."
   ]
  },
  {
   "cell_type": "code",
   "execution_count": null,
   "id": "3c6357cf",
   "metadata": {},
   "outputs": [],
   "source": []
  }
 ],
 "metadata": {
  "kernelspec": {
   "display_name": "Python 3 (ipykernel)",
   "language": "python",
   "name": "python3"
  },
  "language_info": {
   "codemirror_mode": {
    "name": "ipython",
    "version": 3
   },
   "file_extension": ".py",
   "mimetype": "text/x-python",
   "name": "python",
   "nbconvert_exporter": "python",
   "pygments_lexer": "ipython3",
   "version": "3.8.5"
  }
 },
 "nbformat": 4,
 "nbformat_minor": 5
}
