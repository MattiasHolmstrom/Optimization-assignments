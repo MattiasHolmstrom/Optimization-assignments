{
 "cells": [
  {
   "cell_type": "markdown",
   "id": "55475493",
   "metadata": {},
   "source": [
    "### Assignment 3\n",
    "\n",
    "Mattias Holmström, Jakob Nyström\n",
    "\n",
    "## Transportation problem\n",
    "\n",
    "In the transportation problem our goal is to minimise the cost of transporting a product from a given number of suppliers to a given number of destinations.\n",
    "\n",
    "The problem is solved by Linear Programming.\n",
    "\n",
    "Given that the possible supply of said supplier is denoted by $S_i$\n",
    "\n",
    "The demand of each destination is denoted by $D_j$\n",
    "\n",
    "The cost for transporting from a supplier to destination is given by $c_{ij}$\n",
    "\n",
    "The quantity of said product/material that is transported between supplier i to destination j is given by $x_{ij}$"
   ]
  },
  {
   "cell_type": "markdown",
   "id": "e6b5969a",
   "metadata": {},
   "source": [
    "1. Formulate as a Linear programming problem"
   ]
  },
  {
   "cell_type": "markdown",
   "id": "160f068a",
   "metadata": {},
   "source": [
    "Given the above definitions we can formulate the problem as follows\n",
    "\n",
    "\n",
    "Minimise $$\\sum_{i=1}^{M}\\sum_{j=1}^{N}c_{ij}x_{ij}$$\n",
    "\n",
    "Subject to the constraints:\n",
    "\n",
    "$$\\sum_{j=1}^{N}x_{ij} = S_i, i = 1,...., M$$\n",
    "$$\\sum_{i=1}^{M}x_{ij} = D_j, j = 1,...., N$$\n",
    "\n",
    "$$x_{ij}\\geq 0, i = 1,...., M, j = 1,...., N$$"
   ]
  },
  {
   "cell_type": "code",
   "execution_count": 2,
   "id": "d5bd3717",
   "metadata": {},
   "outputs": [],
   "source": [
    "import numpy as np\n",
    "from scipy.optimize import linprog"
   ]
  },
  {
   "cell_type": "code",
   "execution_count": 3,
   "id": "555b87ab",
   "metadata": {},
   "outputs": [],
   "source": [
    "M = 3\n",
    "N = 4\n",
    "S = np.array([25, 55, 35])\n",
    "D = np.array([15, 45, 30, 25])\n",
    "c = np.array([10, 0, 20, 11, 12, 7, 9, 20, 0, 14, 16, 18])\n",
    "\n",
    "b = np.array([25, 55, 35, 15, 45, 30, 25])"
   ]
  },
  {
   "cell_type": "code",
   "execution_count": 4,
   "id": "4af91243",
   "metadata": {},
   "outputs": [],
   "source": [
    "A = np.array([[1, 1, 1, 1, 0, 0, 0, 0, 0, 0, 0, 0],\n",
    "              [0, 0, 0, 0, 1, 1, 1, 1, 0, 0, 0, 0],\n",
    "              [0, 0, 0, 0, 0, 0, 0, 0, 1, 1, 1, 1],\n",
    "              [1, 0, 0, 0, 1, 0, 0, 0, 1, 0, 0, 0],\n",
    "              [0, 1, 0, 0, 0, 1, 0, 0, 0, 1, 0, 0],\n",
    "              [0, 0, 1, 0, 0, 0, 1, 0, 0, 0, 1, 0],\n",
    "              [0, 0, 0, 1, 0, 0, 0, 1, 0, 0, 0, 1]])"
   ]
  },
  {
   "cell_type": "markdown",
   "id": "c5789fb1",
   "metadata": {},
   "source": [
    "### Formulation of the A matrix\n",
    "\n",
    "Fyller på här med varför A ser ut som den gör"
   ]
  },
  {
   "cell_type": "code",
   "execution_count": 5,
   "id": "10f5c0eb",
   "metadata": {},
   "outputs": [
    {
     "name": "stderr",
     "output_type": "stream",
     "text": [
      "/var/folders/vz/w2nj9zh533s9_k79r1ymmh440000gn/T/ipykernel_9643/4142817576.py:1: OptimizeWarning: A_eq does not appear to be of full row rank. To improve performance, check the problem formulation for redundant equality constraints.\n",
      "  simp_res = linprog(c, A_eq =A , b_eq=b, method='simplex')\n"
     ]
    }
   ],
   "source": [
    "simp_res = linprog(c, A_eq =A , b_eq=b, method='simplex')"
   ]
  },
  {
   "cell_type": "markdown",
   "id": "c8c1c5b9",
   "metadata": {},
   "source": [
    "### Results of the method"
   ]
  },
  {
   "cell_type": "markdown",
   "id": "637ffa03",
   "metadata": {},
   "source": [
    "### Comparing results between the Simplex and Interior-point methods\n"
   ]
  },
  {
   "cell_type": "code",
   "execution_count": 6,
   "id": "4e7c8dcb",
   "metadata": {},
   "outputs": [
    {
     "data": {
      "text/plain": [
       "     con: array([0., 0., 0., 0., 0., 0., 0.])\n",
       "     fun: 860.0\n",
       " message: 'Optimization terminated successfully.'\n",
       "     nit: 9\n",
       "   slack: array([], dtype=float64)\n",
       "  status: 0\n",
       " success: True\n",
       "       x: array([ 0., 20.,  0.,  5.,  0., 25., 30.,  0., 15.,  0.,  0., 20.])"
      ]
     },
     "execution_count": 6,
     "metadata": {},
     "output_type": "execute_result"
    }
   ],
   "source": [
    "simp_res"
   ]
  },
  {
   "cell_type": "code",
   "execution_count": 7,
   "id": "f2135224",
   "metadata": {},
   "outputs": [
    {
     "name": "stderr",
     "output_type": "stream",
     "text": [
      "/var/folders/vz/w2nj9zh533s9_k79r1ymmh440000gn/T/ipykernel_9643/3751244486.py:1: OptimizeWarning: A_eq does not appear to be of full row rank. To improve performance, check the problem formulation for redundant equality constraints.\n",
      "  ip_res = linprog(c, A_eq =A , b_eq=b, method='interior-point')\n"
     ]
    }
   ],
   "source": [
    "ip_res = linprog(c, A_eq =A , b_eq=b, method='interior-point')"
   ]
  },
  {
   "cell_type": "code",
   "execution_count": 8,
   "id": "63998aa8",
   "metadata": {},
   "outputs": [
    {
     "data": {
      "text/plain": [
       "     con: array([6.04696478e-07, 1.46854897e-06, 8.92648458e-07, 3.45541057e-07,\n",
       "       1.20939333e-06, 7.77467250e-07, 6.33492274e-07])\n",
       "     fun: 859.9999789257108\n",
       " message: 'Optimization terminated successfully.'\n",
       "     nit: 5\n",
       "   slack: array([], dtype=float64)\n",
       "  status: 0\n",
       " success: True\n",
       "       x: array([2.94795538e-08, 1.99999994e+01, 6.95810731e-09, 4.99999994e+00,\n",
       "       2.57627964e-08, 2.49999994e+01, 2.99999991e+01, 2.43672776e-09,\n",
       "       1.49999996e+01, 1.52024259e-08, 7.31160801e-08, 1.99999994e+01])"
      ]
     },
     "execution_count": 8,
     "metadata": {},
     "output_type": "execute_result"
    }
   ],
   "source": [
    "ip_res"
   ]
  },
  {
   "cell_type": "markdown",
   "id": "9909807c",
   "metadata": {},
   "source": [
    "Solving the problem with $S_2=60$\n",
    "\n",
    "This implies that supply is now greater than demand instead of equal. This means that in order to solve the problem we can either introduce a dummy variable...  or change the constraints(kanske)??\n",
    "\n"
   ]
  },
  {
   "cell_type": "code",
   "execution_count": 50,
   "id": "c91de471",
   "metadata": {},
   "outputs": [],
   "source": [
    "\n",
    "c = np.array([10, 0, 20, 11, 0, 12, 7, 9, 20, 0, 0, 14, 16, 18, 0])\n",
    "b = np.array([25, 60, 35, 15, 45, 30, 25, 5])\n",
    "A = np.array([[1, 1, 1, 1, 1, 0, 0, 0, 0, 0, 0, 0, 0, 0, 0],\n",
    "              [0, 0, 0, 0, 0, 1, 1, 1, 1, 1, 0, 0, 0, 0, 0],\n",
    "              [0, 0, 0, 0, 0, 0, 0, 0, 0, 0, 1, 1, 1, 1, 1],\n",
    "              [1, 0, 0, 0, 0, 1, 0, 0, 0, 0, 1, 0, 0, 0, 0],\n",
    "              [0, 1, 0, 0, 0, 0, 1, 0, 0, 0, 0, 1, 0, 0, 0],\n",
    "              [0, 0, 1, 0, 0, 0, 0, 1, 0, 0, 0, 0, 1, 0, 0],\n",
    "              [0, 0, 0, 1, 0, 0, 0, 0, 1, 0, 0, 0, 0, 1, 0],\n",
    "              [0, 0, 0, 0, 1, 0, 0, 0, 0, 1, 0, 0, 0, 0, 1]])"
   ]
  },
  {
   "cell_type": "code",
   "execution_count": 51,
   "id": "35c204e2",
   "metadata": {},
   "outputs": [
    {
     "name": "stderr",
     "output_type": "stream",
     "text": [
      "/var/folders/vz/w2nj9zh533s9_k79r1ymmh440000gn/T/ipykernel_9643/327854856.py:1: OptimizeWarning: A_eq does not appear to be of full row rank. To improve performance, check the problem formulation for redundant equality constraints.\n",
      "  simp_res = linprog(c, A_eq=A , b_eq=b, method='simplex')\n"
     ]
    }
   ],
   "source": [
    "simp_res = linprog(c, A_eq=A , b_eq=b, method='simplex')"
   ]
  },
  {
   "cell_type": "code",
   "execution_count": 52,
   "id": "3a2cf7fa",
   "metadata": {},
   "outputs": [
    {
     "data": {
      "text/plain": [
       "     con: array([0., 0., 0., 0., 0., 0., 0., 0.])\n",
       "     fun: 860.0\n",
       " message: 'Optimization terminated successfully.'\n",
       "     nit: 13\n",
       "   slack: array([], dtype=float64)\n",
       "  status: 0\n",
       " success: True\n",
       "       x: array([ 0., 15.,  0., 10.,  0.,  0., 30., 30.,  0.,  0., 15.,  0.,  0.,\n",
       "       15.,  5.])"
      ]
     },
     "execution_count": 52,
     "metadata": {},
     "output_type": "execute_result"
    }
   ],
   "source": [
    "simp_res"
   ]
  },
  {
   "cell_type": "code",
   "execution_count": 53,
   "id": "c9c2a19b",
   "metadata": {},
   "outputs": [
    {
     "name": "stderr",
     "output_type": "stream",
     "text": [
      "/var/folders/vz/w2nj9zh533s9_k79r1ymmh440000gn/T/ipykernel_9643/3533574592.py:1: OptimizeWarning: A_eq does not appear to be of full row rank. To improve performance, check the problem formulation for redundant equality constraints.\n",
      "  ip_res = linprog(c, A_eq=A , b_eq=b, method='interior-point')\n"
     ]
    }
   ],
   "source": [
    "ip_res = linprog(c, A_eq=A , b_eq=b, method='interior-point')"
   ]
  },
  {
   "cell_type": "code",
   "execution_count": 54,
   "id": "a2d075a9",
   "metadata": {},
   "outputs": [
    {
     "data": {
      "text/plain": [
       "     con: array([2.03916688e-07, 5.60769799e-07, 3.05874593e-07, 1.22349840e-07,\n",
       "       4.28224411e-07, 2.75287036e-07, 2.24308156e-07, 2.03916350e-08])\n",
       "     fun: 859.9999927875399\n",
       " message: 'Optimization terminated successfully.'\n",
       "     nit: 5\n",
       "   slack: array([], dtype=float64)\n",
       "  status: 0\n",
       " success: True\n",
       "       x: array([7.27180306e-09, 1.69407789e+01, 4.56140766e-09, 8.05922089e+00,\n",
       "       3.43737434e-08, 7.91073682e-09, 2.80592207e+01, 2.99999997e+01,\n",
       "       1.62486670e-08, 1.94077903e+00, 1.49999999e+01, 1.64080206e-08,\n",
       "       2.63142257e-08, 1.69407789e+01, 3.05922092e+00])"
      ]
     },
     "execution_count": 54,
     "metadata": {},
     "output_type": "execute_result"
    }
   ],
   "source": [
    "ip_res"
   ]
  },
  {
   "cell_type": "code",
   "execution_count": null,
   "id": "5cbd45ff",
   "metadata": {},
   "outputs": [],
   "source": []
  }
 ],
 "metadata": {
  "kernelspec": {
   "display_name": "Python 3 (ipykernel)",
   "language": "python",
   "name": "python3"
  },
  "language_info": {
   "codemirror_mode": {
    "name": "ipython",
    "version": 3
   },
   "file_extension": ".py",
   "mimetype": "text/x-python",
   "name": "python",
   "nbconvert_exporter": "python",
   "pygments_lexer": "ipython3",
   "version": "3.9.7"
  }
 },
 "nbformat": 4,
 "nbformat_minor": 5
}
