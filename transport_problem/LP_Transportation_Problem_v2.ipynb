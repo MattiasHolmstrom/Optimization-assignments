{
 "cells": [
  {
   "cell_type": "markdown",
   "id": "55475493",
   "metadata": {},
   "source": [
    "## Assignment 3: Transportation problem\n",
    "\n",
    "In the transportation problem our goal is to minimize the cost of transporting a product from a given number of suppliers to a given number of destinations. The problem is solved by Linear Programming.\n",
    "\n",
    "- There are $I$ suppliers $F_i$, and the possible supply of each supplier is denoted by $S_i$\n",
    "<br><br>\n",
    "- The demand of each destination warehouse $W_j$ is denoted by $D_j$\n",
    "<br><br>\n",
    "- The per-unit cost of transport from a supplier to destination is given by $c_{ij}$\n",
    "<br><br>\n",
    "- The quantity of product / material that is transported between supplier $i$ and destination $j$ is given by $x_{ij}$"
   ]
  },
  {
   "cell_type": "markdown",
   "id": "e6b5969a",
   "metadata": {},
   "source": [
    "### Task 1: Formulate the transportation problem as an LP"
   ]
  },
  {
   "cell_type": "markdown",
   "id": "160f068a",
   "metadata": {},
   "source": [
    "Given the above definitions we can formulate the problem as follows\n",
    "\n",
    "$$\n",
    "    \\textit{min} \\; \\sum_{i=1}^{M}\\sum_{j=1}^{N}c_{ij}x_{ij}\n",
    "$$\n",
    "\n",
    "Subject to the constraints:\n",
    "\n",
    "$$ \\sum_{j=1}^{N}x_{ij} \\leq S_i, i = 1,...., M $$\n",
    "\n",
    "$$ \\sum_{i=1}^{M}x_{ij} \\leq D_j, j = 1,...., N $$\n",
    "\n",
    "$$ x_{ij}\\geq 0, i = 1,...., M, j = 1,...., N $$\n",
    "\n",
    "In standard form this becomes\n",
    "\n",
    "$$\n",
    "    \\textit{min} \\quad c^Tx\n",
    "$$\n",
    "$$\n",
    "    \\textit{s.t.} \\quad Ax \\leq b\n",
    "$$\n",
    "$$\n",
    "    \\qquad x \\geq 0\n",
    "$$\n",
    "<br><br>\n",
    "In other words, we cannot ship more than the smallest of total supply and demand. There are different possible cases, e.g. \n",
    "- $S = D$: supply matches demand; then we get equalitities in the sums above (task 2)\n",
    "<br><br>\n",
    "- $S < D$: there is more demand than what we can produce\n",
    "<br><br>\n",
    "- $S > D$: there is a surplus (this is the case in task 4)"
   ]
  },
  {
   "cell_type": "markdown",
   "id": "4a3983f2",
   "metadata": {},
   "source": [
    "### Task 2: Solve the problem using a python solver\n",
    "\n",
    "We are given the following data and we use the `linprog` solver from `scipy.optimize` to minimize the transportation costs subject to the constraints.\n",
    "\n",
    "<img src=\"transport-table.png\">\n",
    "\n",
    "In this first case we see that $S = D = 115$.\n",
    "\n",
    "[**TODO: Add what the different matrices are in markdown**]"
   ]
  },
  {
   "cell_type": "code",
   "execution_count": 2,
   "id": "d5bd3717",
   "metadata": {},
   "outputs": [],
   "source": [
    "import numpy as np\n",
    "from scipy.optimize import linprog"
   ]
  },
  {
   "cell_type": "code",
   "execution_count": 3,
   "id": "555b87ab",
   "metadata": {},
   "outputs": [],
   "source": [
    "# Set up vectors and matrices required for the optimization\n",
    "\n",
    "# Number of warehouses and factories\n",
    "# M = 3\n",
    "# N = 4\n",
    "\n",
    "# Supply from each factory F\n",
    "S = np.array([25, 55, 35])\n",
    "\n",
    "# Demand in each warehouse W\n",
    "D = np.array([15, 45, 30, 25])\n",
    "\n",
    "# Transport cost grid\n",
    "c = np.array([10, 0, 20, 11, \n",
    "              12, 7, 9, 20, \n",
    "              0, 14, 16, 18])\n",
    "\n",
    "# Constraint coefficient matrix\n",
    "A = np.array([[1, 1, 1, 1, 0, 0, 0, 0, 0, 0, 0, 0],\n",
    "              [0, 0, 0, 0, 1, 1, 1, 1, 0, 0, 0, 0],\n",
    "              [0, 0, 0, 0, 0, 0, 0, 0, 1, 1, 1, 1],\n",
    "              [1, 0, 0, 0, 1, 0, 0, 0, 1, 0, 0, 0],\n",
    "              [0, 1, 0, 0, 0, 1, 0, 0, 0, 1, 0, 0],\n",
    "              [0, 0, 1, 0, 0, 0, 1, 0, 0, 0, 1, 0],\n",
    "              [0, 0, 0, 1, 0, 0, 0, 1, 0, 0, 0, 1]])\n",
    "\n",
    "# Putting all constraint values into one vector\n",
    "b = np.array([25, 55, 35, 15, 45, 30, 25])"
   ]
  },
  {
   "cell_type": "markdown",
   "id": "e952a031",
   "metadata": {},
   "source": [
    "In this first case, the constraints are formulated as equalities. The `scipy.linprog` \"HiGHS\" picks automatically between simplex and interior point methods, depending on the problem."
   ]
  },
  {
   "cell_type": "code",
   "execution_count": 4,
   "id": "10f5c0eb",
   "metadata": {},
   "outputs": [],
   "source": [
    "# Run solver with equalities\n",
    "\n",
    "optim = linprog(c, A_eq=A , b_eq=b, method=\"highs\")"
   ]
  },
  {
   "cell_type": "code",
   "execution_count": 5,
   "id": "4e7c8dcb",
   "metadata": {},
   "outputs": [
    {
     "data": {
      "text/plain": [
       "           con: array([0., 0., 0., 0., 0., 0., 0.])\n",
       " crossover_nit: 0\n",
       "         eqlin:  marginals: array([-0.,  7.,  7., -7., -0.,  2., 11.])\n",
       "  residual: array([0., 0., 0., 0., 0., 0., 0.])\n",
       "           fun: 860.0\n",
       "       ineqlin:  marginals: array([], dtype=float64)\n",
       "  residual: array([], dtype=float64)\n",
       "         lower:  marginals: <MemoryView of 'ndarray' at 0x7fa040e2d1e0>\n",
       "  residual: array([ 0., 20.,  0.,  5.,  0., 25., 30.,  0., 15.,  0.,  0., 20.])\n",
       "       message: 'Optimization terminated successfully.'\n",
       "           nit: 6\n",
       "         slack: array([], dtype=float64)\n",
       "        status: 0\n",
       "       success: True\n",
       "         upper:  marginals: <MemoryView of 'ndarray' at 0x7fa040e2d040>\n",
       "  residual: array([inf, inf, inf, inf, inf, inf, inf, inf, inf, inf, inf, inf])\n",
       "             x: array([ 0., 20.,  0.,  5.,  0., 25., 30.,  0., 15.,  0.,  0., 20.])"
      ]
     },
     "execution_count": 5,
     "metadata": {},
     "output_type": "execute_result"
    }
   ],
   "source": [
    "optim"
   ]
  },
  {
   "cell_type": "markdown",
   "id": "2de74a6e",
   "metadata": {},
   "source": [
    "**Result:** The result of the LP is given in the table below, where each cell contains the quantities $x_ij$ between factory $F_i$ and warehouse $W_j$.\n",
    "\n",
    "<img src=\"q_task_2.png\">"
   ]
  },
  {
   "cell_type": "markdown",
   "id": "1c362948",
   "metadata": {},
   "source": [
    "### Task 3: Compare simplex and interior point methods\n",
    "\n",
    "In this task, we specify which method to use and compare the results. Both the simplex and interior point methods give the same optimal allocations. The also take the same number of iterations."
   ]
  },
  {
   "cell_type": "code",
   "execution_count": 6,
   "id": "d4260322",
   "metadata": {},
   "outputs": [],
   "source": [
    "# Run using simplex algorithm\n",
    "simplex = linprog(c, A_eq=A , b_eq=b, method=\"highs-ds\")\n",
    "\n",
    "# Run using interior point algorithm\n",
    "int_point = linprog(c, A_eq=A , b_eq=b, method=\"highs-ipm\")"
   ]
  },
  {
   "cell_type": "code",
   "execution_count": 7,
   "id": "679ba172",
   "metadata": {},
   "outputs": [
    {
     "data": {
      "text/plain": [
       "           con: array([0., 0., 0., 0., 0., 0., 0.])\n",
       " crossover_nit: 0\n",
       "         eqlin:  marginals: array([-0.,  7.,  7., -7., -0.,  2., 11.])\n",
       "  residual: array([0., 0., 0., 0., 0., 0., 0.])\n",
       "           fun: 860.0\n",
       "       ineqlin:  marginals: array([], dtype=float64)\n",
       "  residual: array([], dtype=float64)\n",
       "         lower:  marginals: <MemoryView of 'ndarray' at 0x7fa040e2dd40>\n",
       "  residual: array([ 0., 20.,  0.,  5.,  0., 25., 30.,  0., 15.,  0.,  0., 20.])\n",
       "       message: 'Optimization terminated successfully.'\n",
       "           nit: 6\n",
       "         slack: array([], dtype=float64)\n",
       "        status: 0\n",
       "       success: True\n",
       "         upper:  marginals: <MemoryView of 'ndarray' at 0x7fa040e2dba0>\n",
       "  residual: array([inf, inf, inf, inf, inf, inf, inf, inf, inf, inf, inf, inf])\n",
       "             x: array([ 0., 20.,  0.,  5.,  0., 25., 30.,  0., 15.,  0.,  0., 20.])"
      ]
     },
     "execution_count": 7,
     "metadata": {},
     "output_type": "execute_result"
    }
   ],
   "source": [
    "simplex"
   ]
  },
  {
   "cell_type": "code",
   "execution_count": 8,
   "id": "a1aa5789",
   "metadata": {},
   "outputs": [
    {
     "data": {
      "text/plain": [
       "           con: array([0., 0., 0., 0., 0., 0., 0.])\n",
       " crossover_nit: 0\n",
       "         eqlin:  marginals: array([ 11.,  18.,  18., -18., -11.,  -9.,  -0.])\n",
       "  residual: array([0., 0., 0., 0., 0., 0., 0.])\n",
       "           fun: 860.0\n",
       "       ineqlin:  marginals: array([], dtype=float64)\n",
       "  residual: array([], dtype=float64)\n",
       "         lower:  marginals: <MemoryView of 'ndarray' at 0x7f9ff000c1e0>\n",
       "  residual: array([ 0., 20.,  0.,  5.,  0., 25., 30.,  0., 15.,  0.,  0., 20.])\n",
       "       message: 'Optimization terminated successfully.'\n",
       "           nit: 6\n",
       "         slack: array([], dtype=float64)\n",
       "        status: 0\n",
       "       success: True\n",
       "         upper:  marginals: <MemoryView of 'ndarray' at 0x7f9ff000c040>\n",
       "  residual: array([inf, inf, inf, inf, inf, inf, inf, inf, inf, inf, inf, inf])\n",
       "             x: array([ 0., 20.,  0.,  5.,  0., 25., 30.,  0., 15.,  0.,  0., 20.])"
      ]
     },
     "execution_count": 8,
     "metadata": {},
     "output_type": "execute_result"
    }
   ],
   "source": [
    "int_point"
   ]
  },
  {
   "cell_type": "markdown",
   "id": "56dc2034",
   "metadata": {},
   "source": [
    "### Task 4: Surplus supply leads to supply-demand imbalance\n",
    "\n",
    "Now $S_2$ increases from $55$ to $60$, which means that $S > D$. We therefore have an optimization problem with an inequality for supply. To solve this we introduce a 5th \"artificial\" warehouse with $5$ in demand which means that we can keep equality in the solver itself.\n",
    "\n",
    "<img src=\"task_4_input.png\">"
   ]
  },
  {
   "cell_type": "code",
   "execution_count": 22,
   "id": "020a0251",
   "metadata": {},
   "outputs": [],
   "source": [
    "# Adding a 0 entry for each row in the original matrix\n",
    "c_2 = np.array([10, 0, 20, 11, 0, 12, 7, 9, 20, 0, 0, 14, 16, 18, 0])\n",
    "\n",
    "# Changing second supply entry to 60 and adding one more demand entry of 5\n",
    "b_2 = np.array([25, 60, 35, 15, 45, 30, 25, 5])\n",
    "\n",
    "# Making corresponding adjustments to A\n",
    "A_2 = np.array([[1, 1, 1, 1, 1, 0, 0, 0, 0, 0, 0, 0, 0, 0, 0],\n",
    "                [0, 0, 0, 0, 0, 1, 1, 1, 1, 1, 0, 0, 0, 0, 0],\n",
    "                [0, 0, 0, 0, 0, 0, 0, 0, 0, 0, 1, 1, 1, 1, 1],\n",
    "                [1, 0, 0, 0, 0, 1, 0, 0, 0, 0, 1, 0, 0, 0, 0],\n",
    "                [0, 1, 0, 0, 0, 0, 1, 0, 0, 0, 0, 1, 0, 0, 0],\n",
    "                [0, 0, 1, 0, 0, 0, 0, 1, 0, 0, 0, 0, 1, 0, 0],\n",
    "                [0, 0, 0, 1, 0, 0, 0, 0, 1, 0, 0, 0, 0, 1, 0],\n",
    "                [0, 0, 0, 0, 1, 0, 0, 0, 0, 1, 0, 0, 0, 0, 1]])"
   ]
  },
  {
   "cell_type": "code",
   "execution_count": 32,
   "id": "d4e8cb20",
   "metadata": {},
   "outputs": [],
   "source": [
    "# Run using simplex algorithm\n",
    "simplex_2 = linprog(c_2, A_eq=A_2 , b_eq=b_2, method=\"highs-ds\")\n",
    "\n",
    "# Run using interior point algorithm\n",
    "int_point_2 = linprog(c_2, A_eq=A_2 , b_eq=b_2, method=\"highs-ipm\")"
   ]
  },
  {
   "cell_type": "code",
   "execution_count": 33,
   "id": "b3eef10e",
   "metadata": {},
   "outputs": [
    {
     "data": {
      "text/plain": [
       "           con: array([0., 0., 0., 0., 0., 0., 0., 0.])\n",
       " crossover_nit: 0\n",
       "         eqlin:  marginals: array([-7., -0., -0., -0.,  7.,  9., 18., -0.])\n",
       "  residual: array([0., 0., 0., 0., 0., 0., 0., 0.])\n",
       "           fun: 860.0\n",
       "       ineqlin:  marginals: array([], dtype=float64)\n",
       "  residual: array([], dtype=float64)\n",
       "         lower:  marginals: <MemoryView of 'ndarray' at 0x7f9ff002f040>\n",
       "  residual: array([ 0., 15.,  0., 10.,  0.,  0., 30., 30.,  0.,  0., 15.,  0.,  0.,\n",
       "       15.,  5.])\n",
       "       message: 'Optimization terminated successfully.'\n",
       "           nit: 8\n",
       "         slack: array([], dtype=float64)\n",
       "        status: 0\n",
       "       success: True\n",
       "         upper:  marginals: <MemoryView of 'ndarray' at 0x7f9ff001fd40>\n",
       "  residual: array([inf, inf, inf, inf, inf, inf, inf, inf, inf, inf, inf, inf, inf,\n",
       "       inf, inf])\n",
       "             x: array([ 0., 15.,  0., 10.,  0.,  0., 30., 30.,  0.,  0., 15.,  0.,  0.,\n",
       "       15.,  5.])"
      ]
     },
     "execution_count": 33,
     "metadata": {},
     "output_type": "execute_result"
    }
   ],
   "source": [
    "simplex_2"
   ]
  },
  {
   "cell_type": "code",
   "execution_count": 34,
   "id": "035c5912",
   "metadata": {},
   "outputs": [
    {
     "data": {
      "text/plain": [
       "           con: array([0., 0., 0., 0., 0., 0., 0., 0.])\n",
       " crossover_nit: 1\n",
       "         eqlin:  marginals: array([-7.,  0.,  0.,  0.,  7.,  9., 18., -0.])\n",
       "  residual: array([0., 0., 0., 0., 0., 0., 0., 0.])\n",
       "           fun: 860.0\n",
       "       ineqlin:  marginals: array([], dtype=float64)\n",
       "  residual: array([], dtype=float64)\n",
       "         lower:  marginals: <MemoryView of 'ndarray' at 0x7f9ff002f380>\n",
       "  residual: array([ 0., 20.,  0.,  5.,  0.,  0., 25., 30.,  0.,  5., 15.,  0.,  0.,\n",
       "       20.,  0.])\n",
       "       message: 'Optimization terminated successfully.'\n",
       "           nit: 5\n",
       "         slack: array([], dtype=float64)\n",
       "        status: 0\n",
       "       success: True\n",
       "         upper:  marginals: <MemoryView of 'ndarray' at 0x7f9ff002f1e0>\n",
       "  residual: array([inf, inf, inf, inf, inf, inf, inf, inf, inf, inf, inf, inf, inf,\n",
       "       inf, inf])\n",
       "             x: array([ 0., 20.,  0.,  5.,  0.,  0., 25., 30.,  0.,  5., 15.,  0.,  0.,\n",
       "       20.,  0.])"
      ]
     },
     "execution_count": 34,
     "metadata": {},
     "output_type": "execute_result"
    }
   ],
   "source": [
    "int_point_2"
   ]
  },
  {
   "cell_type": "markdown",
   "id": "c2fe32d6",
   "metadata": {},
   "source": [
    "**Result:** The updated quantities are given below, with increases in green and decreases in yellow\n",
    "\n",
    "<img src=\"q_task_4.png\">"
   ]
  },
  {
   "cell_type": "code",
   "execution_count": null,
   "id": "a8e5dd44",
   "metadata": {},
   "outputs": [],
   "source": []
  }
 ],
 "metadata": {
  "kernelspec": {
   "display_name": "Python 3 (ipykernel)",
   "language": "python",
   "name": "python3"
  },
  "language_info": {
   "codemirror_mode": {
    "name": "ipython",
    "version": 3
   },
   "file_extension": ".py",
   "mimetype": "text/x-python",
   "name": "python",
   "nbconvert_exporter": "python",
   "pygments_lexer": "ipython3",
   "version": "3.9.7"
  }
 },
 "nbformat": 4,
 "nbformat_minor": 5
}
